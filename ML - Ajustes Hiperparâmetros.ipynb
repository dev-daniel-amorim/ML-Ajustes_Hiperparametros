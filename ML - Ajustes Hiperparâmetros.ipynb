{
 "cells": [
  {
   "cell_type": "markdown",
   "id": "a2f5efbf",
   "metadata": {},
   "source": [
    "# Ajustes de hiperparâmetros\n",
    "\n",
    "Vamos ver como ajustar usando:\n",
    "    \n",
    "   - **Grid Search**\n",
    "   - **Random Search**\n",
    "   - **Bayesian Search**\n",
    "   \n",
    "Nosso foco é apresentar métodos de otimização de hiperparâmetros então não iremos nos preocupar em tratamento dos dados, está disponibilizado o dataframe junto com o notebook no github."
   ]
  },
  {
   "cell_type": "markdown",
   "id": "5eb1f8b2",
   "metadata": {},
   "source": [
    "## Bibliotecas"
   ]
  },
  {
   "cell_type": "code",
   "execution_count": 27,
   "id": "25e499b2",
   "metadata": {},
   "outputs": [],
   "source": [
    "import pandas as pd"
   ]
  },
  {
   "cell_type": "markdown",
   "id": "5984d24e",
   "metadata": {},
   "source": [
    "## Coleta de dados"
   ]
  },
  {
   "cell_type": "code",
   "execution_count": 28,
   "id": "00cab66c",
   "metadata": {},
   "outputs": [],
   "source": [
    "df = pd.read_csv('dftratado.csv', sep = ',')"
   ]
  },
  {
   "cell_type": "code",
   "execution_count": 29,
   "id": "87e061b4",
   "metadata": {
    "scrolled": true
   },
   "outputs": [
    {
     "data": {
      "text/html": [
       "<div>\n",
       "<style scoped>\n",
       "    .dataframe tbody tr th:only-of-type {\n",
       "        vertical-align: middle;\n",
       "    }\n",
       "\n",
       "    .dataframe tbody tr th {\n",
       "        vertical-align: top;\n",
       "    }\n",
       "\n",
       "    .dataframe thead th {\n",
       "        text-align: right;\n",
       "    }\n",
       "</style>\n",
       "<table border=\"1\" class=\"dataframe\">\n",
       "  <thead>\n",
       "    <tr style=\"text-align: right;\">\n",
       "      <th></th>\n",
       "      <th>target_default</th>\n",
       "      <th>score_3</th>\n",
       "      <th>score_4</th>\n",
       "      <th>score_5</th>\n",
       "      <th>score_6</th>\n",
       "      <th>risk_rate</th>\n",
       "      <th>credit_limit</th>\n",
       "      <th>income</th>\n",
       "      <th>facebook_profile</th>\n",
       "      <th>n_bankruptcies</th>\n",
       "      <th>...</th>\n",
       "      <th>n8</th>\n",
       "      <th>n2</th>\n",
       "      <th>dfa</th>\n",
       "      <th>n10</th>\n",
       "      <th>n0</th>\n",
       "      <th>n7</th>\n",
       "      <th>nim</th>\n",
       "      <th>n4</th>\n",
       "      <th>c1</th>\n",
       "      <th>n9</th>\n",
       "    </tr>\n",
       "  </thead>\n",
       "  <tbody>\n",
       "    <tr>\n",
       "      <th>0</th>\n",
       "      <td>0</td>\n",
       "      <td>350.0</td>\n",
       "      <td>101.800832</td>\n",
       "      <td>0.259555</td>\n",
       "      <td>108.427273</td>\n",
       "      <td>0.40</td>\n",
       "      <td>0.0</td>\n",
       "      <td>65014.12</td>\n",
       "      <td>1</td>\n",
       "      <td>0.0</td>\n",
       "      <td>...</td>\n",
       "      <td>1</td>\n",
       "      <td>0</td>\n",
       "      <td>0</td>\n",
       "      <td>0</td>\n",
       "      <td>0</td>\n",
       "      <td>0</td>\n",
       "      <td>0</td>\n",
       "      <td>0</td>\n",
       "      <td>0</td>\n",
       "      <td>0</td>\n",
       "    </tr>\n",
       "    <tr>\n",
       "      <th>1</th>\n",
       "      <td>0</td>\n",
       "      <td>370.0</td>\n",
       "      <td>97.062615</td>\n",
       "      <td>0.942655</td>\n",
       "      <td>92.002546</td>\n",
       "      <td>0.24</td>\n",
       "      <td>39726.0</td>\n",
       "      <td>100018.91</td>\n",
       "      <td>0</td>\n",
       "      <td>0.0</td>\n",
       "      <td>...</td>\n",
       "      <td>0</td>\n",
       "      <td>0</td>\n",
       "      <td>0</td>\n",
       "      <td>0</td>\n",
       "      <td>0</td>\n",
       "      <td>1</td>\n",
       "      <td>1</td>\n",
       "      <td>0</td>\n",
       "      <td>0</td>\n",
       "      <td>0</td>\n",
       "    </tr>\n",
       "    <tr>\n",
       "      <th>2</th>\n",
       "      <td>0</td>\n",
       "      <td>510.0</td>\n",
       "      <td>101.599485</td>\n",
       "      <td>0.987673</td>\n",
       "      <td>94.902491</td>\n",
       "      <td>0.32</td>\n",
       "      <td>54591.0</td>\n",
       "      <td>68830.01</td>\n",
       "      <td>0</td>\n",
       "      <td>1.0</td>\n",
       "      <td>...</td>\n",
       "      <td>0</td>\n",
       "      <td>0</td>\n",
       "      <td>0</td>\n",
       "      <td>0</td>\n",
       "      <td>0</td>\n",
       "      <td>0</td>\n",
       "      <td>0</td>\n",
       "      <td>1</td>\n",
       "      <td>0</td>\n",
       "      <td>0</td>\n",
       "    </tr>\n",
       "    <tr>\n",
       "      <th>3</th>\n",
       "      <td>0</td>\n",
       "      <td>500.0</td>\n",
       "      <td>98.474289</td>\n",
       "      <td>0.532539</td>\n",
       "      <td>118.126207</td>\n",
       "      <td>0.18</td>\n",
       "      <td>0.0</td>\n",
       "      <td>60011.29</td>\n",
       "      <td>1</td>\n",
       "      <td>0.0</td>\n",
       "      <td>...</td>\n",
       "      <td>0</td>\n",
       "      <td>0</td>\n",
       "      <td>0</td>\n",
       "      <td>0</td>\n",
       "      <td>0</td>\n",
       "      <td>0</td>\n",
       "      <td>0</td>\n",
       "      <td>0</td>\n",
       "      <td>0</td>\n",
       "      <td>0</td>\n",
       "    </tr>\n",
       "    <tr>\n",
       "      <th>4</th>\n",
       "      <td>0</td>\n",
       "      <td>300.0</td>\n",
       "      <td>101.837040</td>\n",
       "      <td>0.915389</td>\n",
       "      <td>90.711273</td>\n",
       "      <td>0.44</td>\n",
       "      <td>61055.0</td>\n",
       "      <td>75024.28</td>\n",
       "      <td>0</td>\n",
       "      <td>0.0</td>\n",
       "      <td>...</td>\n",
       "      <td>0</td>\n",
       "      <td>0</td>\n",
       "      <td>0</td>\n",
       "      <td>0</td>\n",
       "      <td>0</td>\n",
       "      <td>0</td>\n",
       "      <td>0</td>\n",
       "      <td>0</td>\n",
       "      <td>1</td>\n",
       "      <td>1</td>\n",
       "    </tr>\n",
       "    <tr>\n",
       "      <th>...</th>\n",
       "      <td>...</td>\n",
       "      <td>...</td>\n",
       "      <td>...</td>\n",
       "      <td>...</td>\n",
       "      <td>...</td>\n",
       "      <td>...</td>\n",
       "      <td>...</td>\n",
       "      <td>...</td>\n",
       "      <td>...</td>\n",
       "      <td>...</td>\n",
       "      <td>...</td>\n",
       "      <td>...</td>\n",
       "      <td>...</td>\n",
       "      <td>...</td>\n",
       "      <td>...</td>\n",
       "      <td>...</td>\n",
       "      <td>...</td>\n",
       "      <td>...</td>\n",
       "      <td>...</td>\n",
       "      <td>...</td>\n",
       "      <td>...</td>\n",
       "    </tr>\n",
       "    <tr>\n",
       "      <th>27163</th>\n",
       "      <td>0</td>\n",
       "      <td>210.0</td>\n",
       "      <td>99.166412</td>\n",
       "      <td>0.986355</td>\n",
       "      <td>110.285563</td>\n",
       "      <td>0.30</td>\n",
       "      <td>0.0</td>\n",
       "      <td>80023.21</td>\n",
       "      <td>0</td>\n",
       "      <td>0.0</td>\n",
       "      <td>...</td>\n",
       "      <td>0</td>\n",
       "      <td>0</td>\n",
       "      <td>0</td>\n",
       "      <td>0</td>\n",
       "      <td>0</td>\n",
       "      <td>0</td>\n",
       "      <td>0</td>\n",
       "      <td>0</td>\n",
       "      <td>0</td>\n",
       "      <td>0</td>\n",
       "    </tr>\n",
       "    <tr>\n",
       "      <th>27164</th>\n",
       "      <td>0</td>\n",
       "      <td>250.0</td>\n",
       "      <td>96.385996</td>\n",
       "      <td>0.009482</td>\n",
       "      <td>104.824116</td>\n",
       "      <td>0.14</td>\n",
       "      <td>10431.0</td>\n",
       "      <td>70027.75</td>\n",
       "      <td>0</td>\n",
       "      <td>0.0</td>\n",
       "      <td>...</td>\n",
       "      <td>0</td>\n",
       "      <td>0</td>\n",
       "      <td>0</td>\n",
       "      <td>0</td>\n",
       "      <td>0</td>\n",
       "      <td>0</td>\n",
       "      <td>0</td>\n",
       "      <td>0</td>\n",
       "      <td>0</td>\n",
       "      <td>1</td>\n",
       "    </tr>\n",
       "    <tr>\n",
       "      <th>27165</th>\n",
       "      <td>0</td>\n",
       "      <td>620.0</td>\n",
       "      <td>92.087698</td>\n",
       "      <td>0.456206</td>\n",
       "      <td>111.333512</td>\n",
       "      <td>0.18</td>\n",
       "      <td>0.0</td>\n",
       "      <td>35020.43</td>\n",
       "      <td>0</td>\n",
       "      <td>0.0</td>\n",
       "      <td>...</td>\n",
       "      <td>0</td>\n",
       "      <td>0</td>\n",
       "      <td>0</td>\n",
       "      <td>0</td>\n",
       "      <td>1</td>\n",
       "      <td>0</td>\n",
       "      <td>0</td>\n",
       "      <td>1</td>\n",
       "      <td>0</td>\n",
       "      <td>0</td>\n",
       "    </tr>\n",
       "    <tr>\n",
       "      <th>27166</th>\n",
       "      <td>0</td>\n",
       "      <td>280.0</td>\n",
       "      <td>96.379531</td>\n",
       "      <td>0.416693</td>\n",
       "      <td>103.667082</td>\n",
       "      <td>0.17</td>\n",
       "      <td>10627.0</td>\n",
       "      <td>100013.24</td>\n",
       "      <td>0</td>\n",
       "      <td>0.0</td>\n",
       "      <td>...</td>\n",
       "      <td>0</td>\n",
       "      <td>0</td>\n",
       "      <td>0</td>\n",
       "      <td>0</td>\n",
       "      <td>1</td>\n",
       "      <td>1</td>\n",
       "      <td>0</td>\n",
       "      <td>1</td>\n",
       "      <td>0</td>\n",
       "      <td>0</td>\n",
       "    </tr>\n",
       "    <tr>\n",
       "      <th>27167</th>\n",
       "      <td>0</td>\n",
       "      <td>370.0</td>\n",
       "      <td>96.124977</td>\n",
       "      <td>0.692196</td>\n",
       "      <td>97.977973</td>\n",
       "      <td>0.27</td>\n",
       "      <td>36262.0</td>\n",
       "      <td>95026.69</td>\n",
       "      <td>0</td>\n",
       "      <td>0.0</td>\n",
       "      <td>...</td>\n",
       "      <td>0</td>\n",
       "      <td>0</td>\n",
       "      <td>0</td>\n",
       "      <td>0</td>\n",
       "      <td>0</td>\n",
       "      <td>0</td>\n",
       "      <td>0</td>\n",
       "      <td>0</td>\n",
       "      <td>0</td>\n",
       "      <td>0</td>\n",
       "    </tr>\n",
       "  </tbody>\n",
       "</table>\n",
       "<p>27168 rows × 48 columns</p>\n",
       "</div>"
      ],
      "text/plain": [
       "       target_default  score_3     score_4   score_5     score_6  risk_rate  \\\n",
       "0                   0    350.0  101.800832  0.259555  108.427273       0.40   \n",
       "1                   0    370.0   97.062615  0.942655   92.002546       0.24   \n",
       "2                   0    510.0  101.599485  0.987673   94.902491       0.32   \n",
       "3                   0    500.0   98.474289  0.532539  118.126207       0.18   \n",
       "4                   0    300.0  101.837040  0.915389   90.711273       0.44   \n",
       "...               ...      ...         ...       ...         ...        ...   \n",
       "27163               0    210.0   99.166412  0.986355  110.285563       0.30   \n",
       "27164               0    250.0   96.385996  0.009482  104.824116       0.14   \n",
       "27165               0    620.0   92.087698  0.456206  111.333512       0.18   \n",
       "27166               0    280.0   96.379531  0.416693  103.667082       0.17   \n",
       "27167               0    370.0   96.124977  0.692196   97.977973       0.27   \n",
       "\n",
       "       credit_limit     income  facebook_profile  n_bankruptcies  ...  n8  n2  \\\n",
       "0               0.0   65014.12                 1             0.0  ...   1   0   \n",
       "1           39726.0  100018.91                 0             0.0  ...   0   0   \n",
       "2           54591.0   68830.01                 0             1.0  ...   0   0   \n",
       "3               0.0   60011.29                 1             0.0  ...   0   0   \n",
       "4           61055.0   75024.28                 0             0.0  ...   0   0   \n",
       "...             ...        ...               ...             ...  ...  ..  ..   \n",
       "27163           0.0   80023.21                 0             0.0  ...   0   0   \n",
       "27164       10431.0   70027.75                 0             0.0  ...   0   0   \n",
       "27165           0.0   35020.43                 0             0.0  ...   0   0   \n",
       "27166       10627.0  100013.24                 0             0.0  ...   0   0   \n",
       "27167       36262.0   95026.69                 0             0.0  ...   0   0   \n",
       "\n",
       "       dfa  n10  n0  n7  nim  n4  c1  n9  \n",
       "0        0    0   0   0    0   0   0   0  \n",
       "1        0    0   0   1    1   0   0   0  \n",
       "2        0    0   0   0    0   1   0   0  \n",
       "3        0    0   0   0    0   0   0   0  \n",
       "4        0    0   0   0    0   0   1   1  \n",
       "...    ...  ...  ..  ..  ...  ..  ..  ..  \n",
       "27163    0    0   0   0    0   0   0   0  \n",
       "27164    0    0   0   0    0   0   0   1  \n",
       "27165    0    0   1   0    0   1   0   0  \n",
       "27166    0    0   1   1    0   1   0   0  \n",
       "27167    0    0   0   0    0   0   0   0  \n",
       "\n",
       "[27168 rows x 48 columns]"
      ]
     },
     "execution_count": 29,
     "metadata": {},
     "output_type": "execute_result"
    }
   ],
   "source": [
    "df"
   ]
  },
  {
   "cell_type": "markdown",
   "id": "9bd56f3a",
   "metadata": {},
   "source": [
    "## Separação treino e teste"
   ]
  },
  {
   "cell_type": "code",
   "execution_count": 30,
   "id": "fce3bb9a",
   "metadata": {},
   "outputs": [],
   "source": [
    "X = df.drop('target_default',  axis=1)\n",
    "y = df.target_default"
   ]
  },
  {
   "cell_type": "code",
   "execution_count": 31,
   "id": "fb3c1662",
   "metadata": {},
   "outputs": [
    {
     "data": {
      "text/plain": [
       "((27168, 47), (27168,))"
      ]
     },
     "execution_count": 31,
     "metadata": {},
     "output_type": "execute_result"
    }
   ],
   "source": [
    "X.shape, y.shape"
   ]
  },
  {
   "cell_type": "code",
   "execution_count": 32,
   "id": "765fa463",
   "metadata": {},
   "outputs": [],
   "source": [
    "from sklearn.model_selection import train_test_split, KFold, cross_val_score\n",
    "X_treino, X_test, y_treino, y_test = train_test_split(X, y)"
   ]
  },
  {
   "cell_type": "markdown",
   "id": "39d538c1",
   "metadata": {},
   "source": [
    "### Balanceamento de classe com SMOTE"
   ]
  },
  {
   "cell_type": "code",
   "execution_count": 34,
   "id": "7bbfd4e4",
   "metadata": {},
   "outputs": [],
   "source": [
    "from imblearn.over_sampling import SMOTE\n",
    "sm = SMOTE(random_state=40)\n",
    "X_treino, y_treino = sm.fit_resample(X_treino, y_treino)"
   ]
  },
  {
   "cell_type": "markdown",
   "id": "25fa77fa",
   "metadata": {},
   "source": [
    "# Vamos treinar sem o tunning"
   ]
  },
  {
   "cell_type": "code",
   "execution_count": 33,
   "id": "a563c44f",
   "metadata": {},
   "outputs": [],
   "source": [
    "from sklearn.ensemble import RandomForestClassifier\n",
    "# Instanciando o classificador para todos\n",
    "rfc = RandomForestClassifier(random_state=42)"
   ]
  },
  {
   "cell_type": "code",
   "execution_count": 35,
   "id": "15529128",
   "metadata": {},
   "outputs": [
    {
     "name": "stdout",
     "output_type": "stream",
     "text": [
      "Acurácia sem tunning: 88.05% e desvio padrão de acurácia de 0.0033\n"
     ]
    }
   ],
   "source": [
    "from numpy import mean\n",
    "from numpy import std\n",
    "\n",
    "cv = KFold(n_splits=5, random_state=1, shuffle=True)\n",
    "\n",
    "scores = cross_val_score(rfc, X_treino, y_treino, scoring='accuracy', cv=cv, n_jobs=1)\n",
    "\n",
    "acc= mean(scores)*100\n",
    "std_value = std(scores)\n",
    "\n",
    "# std é o Standard Deviation (desvio padrão)\n",
    "# O desvio padrão é um número que descreve a dispersão dos valores.\n",
    "# Um desvio padrão baixo significa que a maioria dos números está próxima do valor médio (média).\n",
    "# Um desvio padrão alto significa que os valores estão espalhados por uma faixa mais ampla.\n",
    "print(f'Acurácia sem tunning: {acc:.2f}% e desvio padrão de acurácia de {std_value:.4f}')\n"
   ]
  },
  {
   "cell_type": "markdown",
   "id": "5b6d8513",
   "metadata": {},
   "source": [
    "# 1. Usando Grid search"
   ]
  },
  {
   "cell_type": "code",
   "execution_count": 36,
   "id": "ea586507",
   "metadata": {},
   "outputs": [
    {
     "name": "stdout",
     "output_type": "stream",
     "text": [
      "Fitting 5 folds for each of 8 candidates, totalling 40 fits\n"
     ]
    },
    {
     "data": {
      "text/plain": [
       "GridSearchCV(cv=5, estimator=RandomForestClassifier(random_state=42), n_jobs=1,\n",
       "             param_grid={'bootstrap': [True], 'max_depth': [6, 10],\n",
       "                         'max_features': ['auto', 'sqrt'],\n",
       "                         'min_samples_leaf': [3, 5]},\n",
       "             return_train_score=True, scoring='accuracy', verbose=True)"
      ]
     },
     "execution_count": 36,
     "metadata": {},
     "output_type": "execute_result"
    }
   ],
   "source": [
    "# note que o proprio GridSearch ja faz o CV\n",
    "from sklearn.model_selection import GridSearchCV\n",
    "\n",
    "# definindo hiperparametros pra testes do random forest\n",
    "# grid vai rodar todas as combinações 1x2x2x2x2x2= 32 x 5cv\n",
    "grid_params = {'bootstrap': [True], \n",
    "               'max_depth': [6, 10], # tamanho da arvore\n",
    "               'max_features': ['auto', 'sqrt'], # features auto ou raiz\n",
    "               'min_samples_leaf': [3, 5], # numero de folhas das arvores\n",
    "               #'min_samples_split': [4, 6], #splits de 4 ou 6 divisões\n",
    "               #'n_estimators' : [100, 350] # numero de estimadores\n",
    "              }\n",
    "\n",
    "rfc_grid = GridSearchCV(rfc, grid_params, cv=5, scoring=\"accuracy\", \n",
    "                       return_train_score=True, verbose=True, n_jobs=1)\n",
    "\n",
    "rfc_grid.fit(X_treino, y_treino)"
   ]
  },
  {
   "cell_type": "markdown",
   "id": "1faf7cbe",
   "metadata": {},
   "source": [
    "### - Mostrando melhor estimador"
   ]
  },
  {
   "cell_type": "code",
   "execution_count": 37,
   "id": "074bc326",
   "metadata": {},
   "outputs": [
    {
     "data": {
      "text/plain": [
       "RandomForestClassifier(max_depth=10, min_samples_leaf=3, random_state=42)"
      ]
     },
     "execution_count": 37,
     "metadata": {},
     "output_type": "execute_result"
    }
   ],
   "source": [
    "rfc_grid.best_estimator_"
   ]
  },
  {
   "cell_type": "markdown",
   "id": "d8aa4018",
   "metadata": {},
   "source": [
    "### - Mostrando melhores parâmetros"
   ]
  },
  {
   "cell_type": "code",
   "execution_count": 38,
   "id": "54d70373",
   "metadata": {
    "scrolled": true
   },
   "outputs": [
    {
     "data": {
      "text/plain": [
       "{'bootstrap': True,\n",
       " 'max_depth': 10,\n",
       " 'max_features': 'auto',\n",
       " 'min_samples_leaf': 3}"
      ]
     },
     "execution_count": 38,
     "metadata": {},
     "output_type": "execute_result"
    }
   ],
   "source": [
    "rfc_grid.best_params_"
   ]
  },
  {
   "cell_type": "markdown",
   "id": "eb1c22af",
   "metadata": {},
   "source": [
    "### - Melhor score"
   ]
  },
  {
   "cell_type": "code",
   "execution_count": 39,
   "id": "c40e387b",
   "metadata": {},
   "outputs": [
    {
     "name": "stdout",
     "output_type": "stream",
     "text": [
      "Acurácia com Grid: 81.80\n"
     ]
    }
   ],
   "source": [
    "print('Acurácia com Grid: %.2f' % (rfc_grid.best_score_*100))"
   ]
  },
  {
   "cell_type": "markdown",
   "id": "1d4e45fb",
   "metadata": {},
   "source": [
    "# 2. Usando Random search"
   ]
  },
  {
   "cell_type": "code",
   "execution_count": null,
   "id": "de35535a",
   "metadata": {},
   "outputs": [],
   "source": [
    "# note que o proprio randomizedSearch ja faz o CV\n",
    "from sklearn.model_selection import RandomizedSearchCV\n",
    "\n",
    "random_params = {'bootstrap': [True], \n",
    "               'max_depth': [8, 10, 12], # tamanho da arvore\n",
    "               'max_features': ['auto', 'sqrt', 'log2'], # features auto ou raiz\n",
    "               'min_samples_leaf': [2, 3, 4], # numero de folhas das arvores\n",
    "               'min_samples_split': [2, 3, 4], #splits de 4 ou 6 divisões\n",
    "               'n_estimators' : [200, 300, 400, 500, 600, 700] # numero de estimadores\n",
    "              }\n",
    "\n",
    "rfc_random = RandomizedSearchCV(rfc, random_params, cv=5, scoring=\"accuracy\", \n",
    "                       n_iter=32, verbose=True, n_jobs=1)\n",
    "\n",
    "rfc_random.fit(X_treino, y_treino)\n"
   ]
  },
  {
   "cell_type": "markdown",
   "id": "08cc86d2",
   "metadata": {},
   "source": [
    "### - Mostrando melhor estimador"
   ]
  },
  {
   "cell_type": "code",
   "execution_count": null,
   "id": "a918ae10",
   "metadata": {},
   "outputs": [],
   "source": [
    "rfc_random.best_estimator_"
   ]
  },
  {
   "cell_type": "markdown",
   "id": "9841f01c",
   "metadata": {},
   "source": [
    "### - Mostrando melhores parâmetros"
   ]
  },
  {
   "cell_type": "code",
   "execution_count": null,
   "id": "00cd10b0",
   "metadata": {},
   "outputs": [],
   "source": [
    "rfc_random.best_params_"
   ]
  },
  {
   "cell_type": "markdown",
   "id": "a95ab632",
   "metadata": {},
   "source": [
    "### - Melhor score"
   ]
  },
  {
   "cell_type": "code",
   "execution_count": null,
   "id": "2539ce06",
   "metadata": {},
   "outputs": [],
   "source": [
    "print('Acurácia com Random: %.2f' % (rfc_random.best_score_*100))"
   ]
  },
  {
   "cell_type": "markdown",
   "id": "6b14f17b",
   "metadata": {},
   "source": [
    "# 3. Usando Bayesian search\n",
    "No bayesian ele vai usar os valores como intervalos, ou seja vai pegar valores 'entre' o que foi definido. "
   ]
  },
  {
   "cell_type": "code",
   "execution_count": null,
   "id": "1dba6833",
   "metadata": {},
   "outputs": [],
   "source": [
    "from skopt import BayesSearchCV\n",
    "from skopt.space import Real, Categorical, Integer\n",
    "\n",
    "bayes_params = {'bootstrap': Categorical([True, False]), \n",
    "               'max_depth': Integer(6, 10), # tamanho da arvore\n",
    "               'max_features': Categorical(['auto', 'sqrt', 'log2']), # features auto ou raiz\n",
    "               'min_samples_leaf': Integer(2, 10), # numero de folhas das arvores\n",
    "               'min_samples_split': Integer(2, 10), #splits de 4 ou 6 divisões\n",
    "               'n_estimators' : Integer(100, 500) # numero de estimadores\n",
    "              }\n",
    "\n",
    "rfc_baye =  BayesSearchCV(rfc, bayes_params, cv=5, scoring=\"accuracy\", \n",
    "                       n_iter=32, n_jobs=1)\n",
    "\n",
    "rfc_baye.fit(X_treino, y_treino)\n"
   ]
  },
  {
   "cell_type": "markdown",
   "id": "5ea4b8d9",
   "metadata": {},
   "source": [
    "### - Mostrando melhor estimador"
   ]
  },
  {
   "cell_type": "code",
   "execution_count": null,
   "id": "5d766279",
   "metadata": {},
   "outputs": [],
   "source": [
    "rfc_baye.best_estimator_"
   ]
  },
  {
   "cell_type": "markdown",
   "id": "516bd6e5",
   "metadata": {},
   "source": [
    "### - Mostrando melhores parâmetros"
   ]
  },
  {
   "cell_type": "code",
   "execution_count": null,
   "id": "e71f899b",
   "metadata": {},
   "outputs": [],
   "source": [
    "rfc_baye.best_params_"
   ]
  },
  {
   "cell_type": "markdown",
   "id": "d3905a82",
   "metadata": {},
   "source": [
    "### - Melhor score"
   ]
  },
  {
   "cell_type": "code",
   "execution_count": null,
   "id": "0c6d9130",
   "metadata": {},
   "outputs": [],
   "source": [
    "print('Acurácia com Bayesian: %.2f' % (rfc_baye.best_score_*100))"
   ]
  }
 ],
 "metadata": {
  "kernelspec": {
   "display_name": "Python 3 (ipykernel)",
   "language": "python",
   "name": "python3"
  },
  "language_info": {
   "codemirror_mode": {
    "name": "ipython",
    "version": 3
   },
   "file_extension": ".py",
   "mimetype": "text/x-python",
   "name": "python",
   "nbconvert_exporter": "python",
   "pygments_lexer": "ipython3",
   "version": "3.9.12"
  }
 },
 "nbformat": 4,
 "nbformat_minor": 5
}
